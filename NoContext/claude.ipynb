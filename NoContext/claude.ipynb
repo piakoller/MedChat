{
 "cells": [
  {
   "cell_type": "code",
   "execution_count": 1,
   "metadata": {},
   "outputs": [],
   "source": [
    "import anthropic\n",
    "\n",
    "client = anthropic.Anthropic(\n",
    "    api_key=\"ANTHROPIC_API_KEY\",\n",
    ")"
   ]
  },
  {
   "cell_type": "code",
   "execution_count": 4,
   "metadata": {},
   "outputs": [],
   "source": [
    "import pandas as pd\n",
    "claude_3_question_df = pd.read_csv(\"./Evaluation-Questions.csv\")"
   ]
  },
  {
   "cell_type": "markdown",
   "metadata": {},
   "source": [
    "# Claude 3 Opus without Context"
   ]
  },
  {
   "cell_type": "markdown",
   "metadata": {},
   "source": [
    "Creating a list to save the answers in the list because Claude only allows 5 requests at a time"
   ]
  },
  {
   "cell_type": "code",
   "execution_count": 6,
   "metadata": {},
   "outputs": [],
   "source": [
    "answers = []"
   ]
  },
  {
   "cell_type": "code",
   "execution_count": 49,
   "metadata": {},
   "outputs": [
    {
     "name": "stdout",
     "output_type": "stream",
     "text": [
      "70\n",
      "70\n"
     ]
    }
   ],
   "source": [
    "# Define number of questions to process in this iteration\n",
    "num_questions_to_process = 5\n",
    "\n",
    "# Calculate start and end indices based on current loop position\n",
    "start_index = min(len(answers), len(claude_3_question_df['Question']))  # Start from where answers left off\n",
    "end_index = min(start_index + num_questions_to_process, len(claude_3_question_df['Question']))\n",
    "\n",
    "\n",
    "print(start_index)\n",
    "print(end_index)"
   ]
  },
  {
   "cell_type": "code",
   "execution_count": null,
   "metadata": {},
   "outputs": [],
   "source": [
    "for i in range(start_index, end_index): # Limit loop to 5 iterations\n",
    "  claude_user_prompt = claude_3_question_df['Question'][i]\n",
    "\n",
    "  print(claude_3_question_df['Question'][i])\n",
    "\n",
    "  message = client.messages.create(\n",
    "      model=\"claude-3-opus-20240229\",\n",
    "      max_tokens=1000,\n",
    "      temperature=0,\n",
    "      messages=[\n",
    "          {\n",
    "              \"role\": \"user\",\n",
    "              \"content\": [\n",
    "                  {\n",
    "                      \"type\": \"text\",\n",
    "                      \"text\": claude_user_prompt\n",
    "                  }\n",
    "              ]\n",
    "          }\n",
    "      ]\n",
    "  )\n",
    "  \n",
    "  # Print the prompt and response for debugging purposes (optional)\n",
    "  print(claude_user_prompt)\n",
    "\n",
    "  if len(message.content) > 0:\n",
    "      for block in message.content:\n",
    "        print(block.text)\n",
    "        answers.append(block.text)\n",
    "  else:\n",
    "    print(\"no answer\")\n",
    "    answers.append(\"no answer\")\n",
    "\n",
    "  claude_3_question_df.loc[i, 'LLM'] = 'claude-3-opus-20240229'\n",
    "  print(i)\n"
   ]
  },
  {
   "cell_type": "code",
   "execution_count": 50,
   "metadata": {},
   "outputs": [],
   "source": [
    "# update Dataframe\n",
    "claude_3_question_df['answer'] = pd.DataFrame({'answers': answers})"
   ]
  },
  {
   "cell_type": "code",
   "execution_count": 51,
   "metadata": {},
   "outputs": [],
   "source": [
    "filename = './csv-NoContext/Claude-3-opus_EvaluationQuestions.csv'\n",
    "claude_3_question_df.to_csv(filename, sep=',', index=False, encoding='utf-8')"
   ]
  }
 ],
 "metadata": {
  "kernelspec": {
   "display_name": "llm",
   "language": "python",
   "name": "python3"
  },
  "language_info": {
   "codemirror_mode": {
    "name": "ipython",
    "version": 3
   },
   "file_extension": ".py",
   "mimetype": "text/x-python",
   "name": "python",
   "nbconvert_exporter": "python",
   "pygments_lexer": "ipython3",
   "version": "3.11.7"
  }
 },
 "nbformat": 4,
 "nbformat_minor": 2
}
