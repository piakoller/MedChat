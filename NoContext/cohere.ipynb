{
 "cells": [
  {
   "cell_type": "code",
   "execution_count": 1,
   "metadata": {},
   "outputs": [],
   "source": [
    "import pandas as pd\n",
    "command_r_plus_question_df = pd.read_csv(\"./Evaluation-Questions.csv\")"
   ]
  },
  {
   "cell_type": "code",
   "execution_count": 3,
   "metadata": {},
   "outputs": [],
   "source": [
    "import cohere\n",
    "co = cohere.Client('COHERE_API_KEY')"
   ]
  },
  {
   "cell_type": "markdown",
   "metadata": {},
   "source": [
    "# Cohere Command R+"
   ]
  },
  {
   "cell_type": "code",
   "execution_count": 8,
   "metadata": {},
   "outputs": [],
   "source": [
    "answers_command = []"
   ]
  },
  {
   "cell_type": "code",
   "execution_count": null,
   "metadata": {},
   "outputs": [],
   "source": [
    "for i in range(len(command_r_plus_question_df['Question'])):\n",
    "  print(command_r_plus_question_df['Question'][i])\n",
    "  command_user_prompt = command_r_plus_question_df['Question'][i]\n",
    "\n",
    "  response = co.generate(\n",
    "    model='command-r-plus',\n",
    "    prompt=command_user_prompt,\n",
    "    max_tokens=2048,\n",
    "    temperature=0.1,\n",
    "    k=0,\n",
    "    stop_sequences=[],\n",
    "    return_likelihoods='NONE')\n",
    "  \n",
    "  answers_command.append('{}'.format(response.generations[0].text))\n",
    "  command_r_plus_question_df.loc[i, 'LLM'] = 'command-r-plus'\n",
    "\n",
    "  print('{}'.format(response.generations[0].text))\n",
    "  print(i)"
   ]
  },
  {
   "cell_type": "code",
   "execution_count": 10,
   "metadata": {},
   "outputs": [],
   "source": [
    "# Update Dataframe\n",
    "command_r_plus_question_df['answer'] = pd.DataFrame({'answers': answers_command})"
   ]
  },
  {
   "cell_type": "code",
   "execution_count": 7,
   "metadata": {},
   "outputs": [],
   "source": [
    "filename = './csv-NoContext/Command_r_plus_EvaluationQuestions.csv'\n",
    "command_r_plus_question_df.to_csv(filename, sep=',', index=False, encoding='utf-8')"
   ]
  }
 ],
 "metadata": {
  "kernelspec": {
   "display_name": "llm",
   "language": "python",
   "name": "python3"
  },
  "language_info": {
   "codemirror_mode": {
    "name": "ipython",
    "version": 3
   },
   "file_extension": ".py",
   "mimetype": "text/x-python",
   "name": "python",
   "nbconvert_exporter": "python",
   "pygments_lexer": "ipython3",
   "version": "3.11.7"
  }
 },
 "nbformat": 4,
 "nbformat_minor": 2
}
