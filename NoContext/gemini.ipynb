{
 "cells": [
  {
   "cell_type": "code",
   "execution_count": null,
   "metadata": {},
   "outputs": [],
   "source": [
    "import pandas as pd\n",
    "import time\n",
    "import google.generativeai as genai\n",
    "\n",
    "gemini_question_df = pd.read_csv(\"../Evaluation-Questions.csv\")"
   ]
  },
  {
   "cell_type": "code",
   "execution_count": null,
   "metadata": {},
   "outputs": [],
   "source": [
    "# API Key\n",
    "API_KEY_GOOGLE='API_KEY_GOOGLE'\n",
    "genai.configure(api_key=API_KEY_GOOGLE)"
   ]
  },
  {
   "cell_type": "markdown",
   "metadata": {},
   "source": [
    "# Gemini 1.5 No Contxt"
   ]
  },
  {
   "cell_type": "code",
   "execution_count": null,
   "metadata": {},
   "outputs": [],
   "source": [
    "answers_gemini_1_5 = []"
   ]
  },
  {
   "cell_type": "code",
   "execution_count": null,
   "metadata": {},
   "outputs": [],
   "source": [
    "# Define number of questions to process in this iteration\n",
    "num_questions_to_process = 35\n",
    "\n",
    "# Calculate start and end indices based on current loop position\n",
    "start_index = min(len(answers_gemini_1_5), len(gemini_question_df['Question']))  # Start from where answers left off\n",
    "end_index = min(start_index + num_questions_to_process, len(gemini_question_df['Question']))\n",
    "\n",
    "\n",
    "print(start_index)\n",
    "print(end_index)"
   ]
  },
  {
   "cell_type": "code",
   "execution_count": null,
   "metadata": {},
   "outputs": [],
   "source": [
    "# Set up the model\n",
    "generation_config = {\n",
    "  \"temperature\": 1,\n",
    "  \"top_p\": 0.95,\n",
    "  \"top_k\": 0,\n",
    "  \"max_output_tokens\": 8192,\n",
    "}\n",
    "\n",
    "safety_settings = [\n",
    "  {\n",
    "    \"category\": \"HARM_CATEGORY_HARASSMENT\",\n",
    "    \"threshold\": \"BLOCK_NONE\"\n",
    "  },\n",
    "  {\n",
    "    \"category\": \"HARM_CATEGORY_HATE_SPEECH\",\n",
    "    \"threshold\": \"BLOCK_NONE\"\n",
    "  },\n",
    "  {\n",
    "    \"category\": \"HARM_CATEGORY_SEXUALLY_EXPLICIT\",\n",
    "    \"threshold\": \"BLOCK_NONE\"\n",
    "  },\n",
    "  {\n",
    "    \"category\": \"HARM_CATEGORY_DANGEROUS_CONTENT\",\n",
    "    \"threshold\": \"BLOCK_NONE\"\n",
    "  },\n",
    "]\n",
    "\n",
    "model = genai.GenerativeModel(model_name=\"gemini-1.5-pro-latest\",\n",
    "                              generation_config=generation_config,\n",
    "                              safety_settings=safety_settings)\n",
    "\n",
    "convo = model.start_chat(history=[])\n",
    "\n",
    "# iterate through the questions\n",
    "for i in range(start_index, end_index):\n",
    "    question_prompt = gemini_question_df['Question'][i]\n",
    "    print(gemini_question_df['Question'][i])\n",
    "\n",
    "    try:\n",
    "        convo.send_message(question_prompt)\n",
    "    except Exception as e:\n",
    "        time.sleep(120)\n",
    "        convo.send_message(question_prompt)\n",
    "\n",
    "    gemini_question_df.loc[i, 'LLM'] = 'gemini-1.5-pro-latest'\n",
    "\n",
    "    response = convo.last.text\n",
    "    answers_gemini_1_5.append(str(response))\n",
    "    print(response)"
   ]
  },
  {
   "cell_type": "code",
   "execution_count": null,
   "metadata": {},
   "outputs": [],
   "source": [
    "# update Dataframe\n",
    "gemini_question_df['answer'] = pd.DataFrame({'answers': answers_gemini_1_5})"
   ]
  },
  {
   "cell_type": "code",
   "execution_count": null,
   "metadata": {},
   "outputs": [],
   "source": [
    "filename = './csv-NoContext/Gemini-1-5_EvaluationQuestions.csv'\n",
    "gemini_question_df.to_csv(filename, sep=',', index=False, encoding='utf-8')"
   ]
  }
 ],
 "metadata": {
  "language_info": {
   "name": "python"
  }
 },
 "nbformat": 4,
 "nbformat_minor": 2
}
