{
 "cells": [
  {
   "cell_type": "code",
   "execution_count": 2,
   "metadata": {},
   "outputs": [],
   "source": [
    "import pandas as pd"
   ]
  },
  {
   "cell_type": "code",
   "execution_count": 3,
   "metadata": {},
   "outputs": [],
   "source": [
    "gpt_4_df = pd.read_csv(\"./csv-metrics/GPT_4_noContext_EvaluationMetrics_EvaluationQuestions.csv\")\n",
    "gpt_4o_df = pd.read_csv(\"./csv-metrics/GPT_4o_noContext_EvaluationMetrics_EvaluationQuestions.csv\")\n",
    "\n",
    "claude_3_df = pd.read_csv(\"./csv-metrics/Claude-3-opus_noContext_EvaluationMetrics_EvaluationQuestions.csv\")\n",
    "gemini_df = pd.read_csv(\"./csv-metrics/Gemini-1-5_noContext_EvaluationMetrics_EvaluationQuestions.csv\")\n",
    "command_df = pd.read_csv(\"./csv-metrics/Command-r-plus_noContext_EvaluationMetrics_EvaluationQuestions.csv\")"
   ]
  },
  {
   "cell_type": "code",
   "execution_count": 6,
   "metadata": {},
   "outputs": [],
   "source": [
    "gpt_4_naiveRAG_df = pd.read_csv(\"./csv-metrics/GPT_4_Context_naiveRAG_EvaluationMetrics_EvaluationQuestions.csv\")\n",
    "gpt_4o_naiveRAG_df = pd.read_csv(\"./csv-metrics/GPT_4o_Context_naiveRAG_EvaluationMetrics_EvaluationQuestions.csv\")\n",
    "\n",
    "claude_3_naiveRAG_df = pd.read_csv(\"./csv-metrics/Claude-3-opus_Context_naiveRAG_EvaluationMetrics_EvaluationQuestions.csv\")\n",
    "gemini_naiveRAG_df = pd.read_csv(\"./csv-metrics/Gemini-1-5_Context_naiveRAG_EvaluationMetrics_EvaluationQuestions.csv\")\n",
    "command_naiveRAG_df = pd.read_csv(\"./csv-metrics/Command-r-plus_Context_naiveRAG_EvaluationMetrics_EvaluationQuestions.csv\")"
   ]
  },
  {
   "cell_type": "code",
   "execution_count": 7,
   "metadata": {},
   "outputs": [],
   "source": [
    "gpt_4_advancedRAG_df = pd.read_csv(\"./csv-metrics/GPT_4_Context_advancedRAG_EvaluationMetrics_EvaluationQuestions.csv\")\n",
    "gpt_4o_advancedRAG_df = pd.read_csv(\"./csv-metrics/GPT_4o_Context_advancedRAG_EvaluationMetrics_EvaluationQuestions.csv\")\n",
    "\n",
    "claude_3_advancedRAG_df = pd.read_csv(\"./csv-metrics/Claude-3-opus_Context_advancedRAG_EvaluationMetrics_EvaluationQuestions.csv\")\n",
    "gemini_advancedRAG_df = pd.read_csv(\"./csv-metrics/Gemini-1-5_Context_advancedRAG_EvaluationMetrics_EvaluationQuestions.csv\")\n",
    "command_advancedRAG_df = pd.read_csv(\"./csv-metrics/Command-r-plus_Context_advancedRAG_EvaluationMetrics_EvaluationQuestions.csv\")"
   ]
  },
  {
   "cell_type": "code",
   "execution_count": 8,
   "metadata": {},
   "outputs": [],
   "source": [
    "def calculate_word_count(answer):\n",
    "    return len(answer.split())\n",
    "\n",
    "def process_dataframe(dataframe):\n",
    "    df = globals()[dataframe]  # Access dataframe using its name as a variable\n",
    "    df['word_count'] = df['answer'].apply(calculate_word_count)\n",
    "\n",
    "\n",
    "# Process all dataframes\n",
    "process_dataframe('gpt_4_df')\n",
    "process_dataframe('gpt_4_naiveRAG_df')\n",
    "process_dataframe('gpt_4_advancedRAG_df')\n",
    "\n",
    "process_dataframe('gpt_4o_df')\n",
    "process_dataframe('gpt_4o_naiveRAG_df')\n",
    "process_dataframe('gpt_4o_advancedRAG_df')\n",
    "\n",
    "process_dataframe('claude_3_df')\n",
    "process_dataframe('claude_3_naiveRAG_df')\n",
    "process_dataframe('claude_3_advancedRAG_df')\n",
    "\n",
    "process_dataframe('gemini_df')\n",
    "process_dataframe('gemini_naiveRAG_df')\n",
    "process_dataframe('gemini_advancedRAG_df')\n",
    "\n",
    "process_dataframe('command_df')\n",
    "process_dataframe('command_naiveRAG_df')\n",
    "process_dataframe('command_advancedRAG_df')"
   ]
  },
  {
   "cell_type": "code",
   "execution_count": 9,
   "metadata": {},
   "outputs": [],
   "source": [
    "# GPT-4\n",
    "filename = '../llmJudge/csv-metrics/GPT_4_noContext_EvaluationMetrics_EvaluationQuestions.csv'\n",
    "gpt_4_df.to_csv(filename, sep=',', index=False, encoding='utf-8')\n",
    "\n",
    "filename = '../llmJudge/csv-metrics/GPT_4_Context_naiveRAG_EvaluationMetrics_EvaluationQuestions.csv'\n",
    "gpt_4_naiveRAG_df.to_csv(filename, sep=',', index=False, encoding='utf-8')\n",
    "\n",
    "filename = '../llmJudge/csv-metrics/GPT_4_Context_advancedRAG_EvaluationMetrics_EvaluationQuestions.csv'\n",
    "gpt_4_advancedRAG_df.to_csv(filename, sep=',', index=False, encoding='utf-8')\n",
    "\n",
    "# GPT-4o\n",
    "filename = '../llmJudge/csv-metrics/GPT_4o_noContext_EvaluationMetrics_EvaluationQuestions.csv'\n",
    "gpt_4o_df.to_csv(filename, sep=',', index=False, encoding='utf-8')\n",
    "\n",
    "filename = '../llmJudge/csv-metrics/GPT_4o_Context_naiveRAG_EvaluationMetrics_EvaluationQuestions.csv'\n",
    "gpt_4o_naiveRAG_df.to_csv(filename, sep=',', index=False, encoding='utf-8')\n",
    "\n",
    "filename = '../llmJudge/csv-metrics/GPT_4o_Context_advancedRAG_EvaluationMetrics_EvaluationQuestions.csv'\n",
    "gpt_4o_advancedRAG_df.to_csv(filename, sep=',', index=False, encoding='utf-8')\n",
    "\n",
    "# Claude 3 Opus\n",
    "filename = '../llmJudge/csv-metrics/Claude-3-opus_noContext_EvaluationMetrics_EvaluationQuestions.csv'\n",
    "claude_3_df.to_csv(filename, sep=',', index=False, encoding='utf-8')\n",
    "\n",
    "filename = '../llmJudge/csv-metrics/Claude-3-opus_Context_naiveRAG_EvaluationMetrics_EvaluationQuestions.csv'\n",
    "claude_3_naiveRAG_df.to_csv(filename, sep=',', index=False, encoding='utf-8')\n",
    "\n",
    "filename = '../llmJudge/csv-metrics/Claude-3-opus_Context_advancedRAG_EvaluationMetrics_EvaluationQuestions.csv'\n",
    "claude_3_advancedRAG_df.to_csv(filename, sep=',', index=False, encoding='utf-8')\n",
    "\n",
    "# Gemini 1.5\n",
    "filename = '../llmJudge/csv-metrics/Gemini-1-5_noContext_EvaluationMetrics_EvaluationQuestions.csv'\n",
    "gemini_df.to_csv(filename, sep=',', index=False, encoding='utf-8')\n",
    "\n",
    "filename = '../llmJudge/csv-metrics/Gemini-1-5_Context_naiveRAG_EvaluationMetrics_EvaluationQuestions.csv'\n",
    "gemini_naiveRAG_df.to_csv(filename, sep=',', index=False, encoding='utf-8')\n",
    "\n",
    "filename = '../llmJudge/csv-metrics/Gemini-1-5_Context_advancedRAG_EvaluationMetrics_EvaluationQuestions.csv'\n",
    "gemini_advancedRAG_df.to_csv(filename, sep=',', index=False, encoding='utf-8')\n",
    "\n",
    "# Command R+\n",
    "filename = '../llmJudge/csv-metrics/Command-r-plus_noContext_EvaluationMetrics_EvaluationQuestions.csv'\n",
    "command_df.to_csv(filename, sep=',', index=False, encoding='utf-8')\n",
    "\n",
    "filename = '../llmJudge/csv-metrics/Command-r-plus_Context_naiveRAG_EvaluationMetrics_EvaluationQuestions.csv'\n",
    "command_naiveRAG_df.to_csv(filename, sep=',', index=False, encoding='utf-8')\n",
    "\n",
    "filename = '../llmJudge/csv-metrics/Command-r-plus_Context_advancedRAG_EvaluationMetrics_EvaluationQuestions.csv'\n",
    "command_advancedRAG_df.to_csv(filename, sep=',', index=False, encoding='utf-8')"
   ]
  }
 ],
 "metadata": {
  "kernelspec": {
   "display_name": "llm",
   "language": "python",
   "name": "python3"
  },
  "language_info": {
   "codemirror_mode": {
    "name": "ipython",
    "version": 3
   },
   "file_extension": ".py",
   "mimetype": "text/x-python",
   "name": "python",
   "nbconvert_exporter": "python",
   "pygments_lexer": "ipython3",
   "version": "3.11.7"
  }
 },
 "nbformat": 4,
 "nbformat_minor": 2
}
